{
 "cells": [
  {
   "cell_type": "code",
   "execution_count": 2,
   "metadata": {},
   "outputs": [],
   "source": [
    "from flask import Flask, jsonify\n",
    "import matplotlib as mpl\n",
    "import matplotlib.pyplot as plt\n",
    "import pandas as pd\n",
    "import re\n",
    "import demoji\n",
    "from matplotlib import pyplot as plt\n",
    "import seaborn as sns\n",
    "import numpy as np\n",
    "import sqlite3"
   ]
  },
  {
   "cell_type": "code",
   "execution_count": 3,
   "metadata": {},
   "outputs": [],
   "source": [
    "df_kbbi = pd.read_csv('new_kamusalay.csv', header=None, encoding='ISO-8859-1', names=['TIDAKBAKU', 'BAKU'])\n",
    "\n",
    "ABS = pd.read_csv('abusive.csv')\n",
    "\n",
    "data = pd.read_csv('data.csv', header=None, encoding='latin-1')\n",
    "\n",
    "data2 = data[[0]]\n"
   ]
  },
  {
   "cell_type": "code",
   "execution_count": 8,
   "metadata": {},
   "outputs": [],
   "source": [
    "def lowercase(text):\n",
    "    return text.lower()\n",
    "\n",
    "def removechars(text):\n",
    "    text = re.sub(r'[^\\w]', ' ', text)\n",
    "    text = re.sub('rt',' ',text) \n",
    "    text = re.sub('user',' ',text) \n",
    "    text = re.sub('((www\\.[^\\s]+)|(https?://[^\\s]+)|(http?://[^\\s]+))',' ',text)\n",
    "    # text = re.sub('xf0',' ',text) \n",
    "    # text = re.sub('x9f',' ',text) \n",
    "    # text = re.sub('x98',' ',text) \n",
    "    # text = re.sub('x84',' ',text) \n",
    "    return text\n",
    "    \n",
    "\n",
    "def remove_emoji(text):\n",
    "    dem = demoji.findall(text)\n",
    "    for demoj in dem.keys():\n",
    "        text = text.replace(demoj, '')\n",
    "    return text\n",
    "\n",
    "def sensor(text):\n",
    "    abusiveword = ABS['ABUSIVE'].tolist()\n",
    "    for word in abusiveword:\n",
    "        pattern = re.compile(r'\\b{}\\b'.format(word))\n",
    "        length = len(word)\n",
    "        replacement = '*' * length\n",
    "        text = pattern.sub(replacement, text.lower())\n",
    "    return text\n",
    "\n",
    "def changealay(text):\n",
    "    alay = dict(zip(df_kbbi['TIDAKBAKU'], df_kbbi['BAKU']))\n",
    "    text = ' '.join([alay[word] if word in alay else word for word in text.split(' ')])\n",
    "    return text"
   ]
  },
  {
   "cell_type": "code",
   "execution_count": 9,
   "metadata": {},
   "outputs": [
    {
     "data": {
      "text/plain": [
       "'RT   Rt   abc         ABV 0123  n        '"
      ]
     },
     "execution_count": 9,
     "metadata": {},
     "output_type": "execute_result"
    }
   ],
   "source": [
    "dataw = (removechars('RT rt Rt user abc !@# ?/\\ ABV 0123 /n 🥹 😂 🤣 🥲'))\n",
    "dataw"
   ]
  },
  {
   "cell_type": "code",
   "execution_count": 5,
   "metadata": {},
   "outputs": [
    {
     "name": "stdout",
     "output_type": "stream",
     "text": [
      "hhalo, apa kabar?\n"
     ]
    }
   ],
   "source": [
    "print(lowercase('HHALO, Apa Kabar?'))"
   ]
  },
  {
   "cell_type": "code",
   "execution_count": 7,
   "metadata": {},
   "outputs": [
    {
     "name": "stdout",
     "output_type": "stream",
     "text": [
      "******\n"
     ]
    }
   ],
   "source": [
    "print(sensor('anjing'))"
   ]
  },
  {
   "cell_type": "code",
   "execution_count": 11,
   "metadata": {},
   "outputs": [
    {
     "name": "stdout",
     "output_type": "stream",
     "text": [
      "asu\n"
     ]
    }
   ],
   "source": [
    "print(remove_emoji('🥲asu'))"
   ]
  },
  {
   "cell_type": "code",
   "execution_count": 8,
   "metadata": {},
   "outputs": [
    {
     "name": "stdout",
     "output_type": "stream",
     "text": [
      "semoga lekas sembuh\n"
     ]
    }
   ],
   "source": [
    "print(changealay('gws'))"
   ]
  },
  {
   "cell_type": "code",
   "execution_count": 13,
   "metadata": {},
   "outputs": [],
   "source": [
    "def cleaning(text):\n",
    "    text = removechars(text)\n",
    "    text = lowercase(text)\n",
    "    text = changealay(text)\n",
    "    text = sensor(text)\n",
    "    text = remove_emoji(text)\n",
    "    return text"
   ]
  },
  {
   "cell_type": "code",
   "execution_count": 14,
   "metadata": {},
   "outputs": [
    {
     "name": "stdout",
     "output_type": "stream",
     "text": [
      "halo    ****** rt semoga lekas sembuh apa kabar       \n"
     ]
    }
   ],
   "source": [
    "print(cleaning('Halo, user ANJING RT gws Apa Kabar 😂 🤣 🥲?'))\n"
   ]
  },
  {
   "cell_type": "code",
   "execution_count": 12,
   "metadata": {},
   "outputs": [],
   "source": [
    "data1 = data2[0].apply(cleaning)\n"
   ]
  },
  {
   "cell_type": "code",
   "execution_count": null,
   "metadata": {},
   "outputs": [],
   "source": [
    "data1 = data2[0].apply(cleaning)\n",
    "\n",
    "conn = sqlite3.connect('datacsv_tosql1.db')\n",
    "data1.to_sql('Datanew', conn, if_exists='replace', index=False)\n",
    "\n",
    "conn.close()"
   ]
  },
  {
   "cell_type": "code",
   "execution_count": 13,
   "metadata": {},
   "outputs": [],
   "source": [
    "data1.to_csv('cleaned1.csv', index=False, header=False)"
   ]
  },
  {
   "cell_type": "code",
   "execution_count": 14,
   "metadata": {},
   "outputs": [],
   "source": [
    "conn = sqlite3.connect('datacsv_tosql1.db')\n",
    "data1.to_sql('Datanew', conn, if_exists='replace', index=False)\n",
    "\n",
    "conn.close()"
   ]
  },
  {
   "cell_type": "code",
   "execution_count": 15,
   "metadata": {},
   "outputs": [
    {
     "data": {
      "text/html": [
       "<div>\n",
       "<style scoped>\n",
       "    .dataframe tbody tr th:only-of-type {\n",
       "        vertical-align: middle;\n",
       "    }\n",
       "\n",
       "    .dataframe tbody tr th {\n",
       "        vertical-align: top;\n",
       "    }\n",
       "\n",
       "    .dataframe thead th {\n",
       "        text-align: right;\n",
       "    }\n",
       "</style>\n",
       "<table border=\"1\" class=\"dataframe\">\n",
       "  <thead>\n",
       "    <tr style=\"text-align: right;\">\n",
       "      <th></th>\n",
       "      <th>0</th>\n",
       "    </tr>\n",
       "  </thead>\n",
       "  <tbody>\n",
       "    <tr>\n",
       "      <th>0</th>\n",
       "      <td>twit</td>\n",
       "    </tr>\n",
       "    <tr>\n",
       "      <th>1</th>\n",
       "      <td>di saat semua cowok berusaha melacak perhati...</td>\n",
       "    </tr>\n",
       "    <tr>\n",
       "      <th>2</th>\n",
       "      <td>pengguna  pengguna siapa yang telat memberi ...</td>\n",
       "    </tr>\n",
       "    <tr>\n",
       "      <th>3</th>\n",
       "      <td>41  kadang aku berpikir  kenapa aku tetap perc...</td>\n",
       "    </tr>\n",
       "    <tr>\n",
       "      <th>4</th>\n",
       "      <td>pengguna pengguna aku itu aku dan ku tau matam...</td>\n",
       "    </tr>\n",
       "    <tr>\n",
       "      <th>...</th>\n",
       "      <td>...</td>\n",
       "    </tr>\n",
       "    <tr>\n",
       "      <th>13165</th>\n",
       "      <td>pengguna jangan asal berbicara ndasmu         ...</td>\n",
       "    </tr>\n",
       "    <tr>\n",
       "      <th>13166</th>\n",
       "      <td>pengguna kasur mana enak</td>\n",
       "    </tr>\n",
       "    <tr>\n",
       "      <th>13167</th>\n",
       "      <td>pengguna hati hati          tidak dan lagi bos...</td>\n",
       "    </tr>\n",
       "    <tr>\n",
       "      <th>13168</th>\n",
       "      <td>pengguna pengguna pengguna pengguna bom yang r...</td>\n",
       "    </tr>\n",
       "    <tr>\n",
       "      <th>13169</th>\n",
       "      <td>pengguna mana situ memberi    itu cuma foto ya...</td>\n",
       "    </tr>\n",
       "  </tbody>\n",
       "</table>\n",
       "<p>13170 rows × 1 columns</p>\n",
       "</div>"
      ],
      "text/plain": [
       "                                                       0\n",
       "0                                                   twit\n",
       "1        di saat semua cowok berusaha melacak perhati...\n",
       "2        pengguna  pengguna siapa yang telat memberi ...\n",
       "3      41  kadang aku berpikir  kenapa aku tetap perc...\n",
       "4      pengguna pengguna aku itu aku dan ku tau matam...\n",
       "...                                                  ...\n",
       "13165  pengguna jangan asal berbicara ndasmu         ...\n",
       "13166                   pengguna kasur mana enak        \n",
       "13167  pengguna hati hati          tidak dan lagi bos...\n",
       "13168  pengguna pengguna pengguna pengguna bom yang r...\n",
       "13169  pengguna mana situ memberi    itu cuma foto ya...\n",
       "\n",
       "[13170 rows x 1 columns]"
      ]
     },
     "execution_count": 15,
     "metadata": {},
     "output_type": "execute_result"
    }
   ],
   "source": [
    "cnx = sqlite3.connect('datacsv_tosql.db')\n",
    "sql_df = pd.read_sql_query('Select * from Datanew', cnx)\n",
    "sql_df"
   ]
  },
  {
   "cell_type": "code",
   "execution_count": 16,
   "metadata": {},
   "outputs": [],
   "source": [
    "dataq = pd.read_csv('cleaned1.csv', header=None, encoding='latin-1')"
   ]
  },
  {
   "cell_type": "code",
   "execution_count": 17,
   "metadata": {},
   "outputs": [
    {
     "data": {
      "text/html": [
       "<div>\n",
       "<style scoped>\n",
       "    .dataframe tbody tr th:only-of-type {\n",
       "        vertical-align: middle;\n",
       "    }\n",
       "\n",
       "    .dataframe tbody tr th {\n",
       "        vertical-align: top;\n",
       "    }\n",
       "\n",
       "    .dataframe thead th {\n",
       "        text-align: right;\n",
       "    }\n",
       "</style>\n",
       "<table border=\"1\" class=\"dataframe\">\n",
       "  <thead>\n",
       "    <tr style=\"text-align: right;\">\n",
       "      <th></th>\n",
       "      <th>0</th>\n",
       "    </tr>\n",
       "  </thead>\n",
       "  <tbody>\n",
       "    <tr>\n",
       "      <th>0</th>\n",
       "      <td>twit</td>\n",
       "    </tr>\n",
       "    <tr>\n",
       "      <th>1</th>\n",
       "      <td>di saat semua cowok berusaha melacak perhati...</td>\n",
       "    </tr>\n",
       "    <tr>\n",
       "      <th>2</th>\n",
       "      <td>pengguna  pengguna siapa yang telat memberi ...</td>\n",
       "    </tr>\n",
       "    <tr>\n",
       "      <th>3</th>\n",
       "      <td>41  kadang aku berpikir  kenapa aku tetap perc...</td>\n",
       "    </tr>\n",
       "    <tr>\n",
       "      <th>4</th>\n",
       "      <td>pengguna pengguna aku itu aku dan ku tau matam...</td>\n",
       "    </tr>\n",
       "    <tr>\n",
       "      <th>...</th>\n",
       "      <td>...</td>\n",
       "    </tr>\n",
       "    <tr>\n",
       "      <th>13165</th>\n",
       "      <td>pengguna jangan asal berbicara ndasmu  ****** ...</td>\n",
       "    </tr>\n",
       "    <tr>\n",
       "      <th>13166</th>\n",
       "      <td>pengguna kasur mana enak ******</td>\n",
       "    </tr>\n",
       "    <tr>\n",
       "      <th>13167</th>\n",
       "      <td>pengguna hati hati ****     tidak dan lagi bos...</td>\n",
       "    </tr>\n",
       "    <tr>\n",
       "      <th>13168</th>\n",
       "      <td>pengguna pengguna pengguna pengguna bom yang r...</td>\n",
       "    </tr>\n",
       "    <tr>\n",
       "      <th>13169</th>\n",
       "      <td>pengguna mana situ memberi    itu cuma foto ya...</td>\n",
       "    </tr>\n",
       "  </tbody>\n",
       "</table>\n",
       "<p>13170 rows × 1 columns</p>\n",
       "</div>"
      ],
      "text/plain": [
       "                                                       0\n",
       "0                                                   twit\n",
       "1        di saat semua cowok berusaha melacak perhati...\n",
       "2        pengguna  pengguna siapa yang telat memberi ...\n",
       "3      41  kadang aku berpikir  kenapa aku tetap perc...\n",
       "4      pengguna pengguna aku itu aku dan ku tau matam...\n",
       "...                                                  ...\n",
       "13165  pengguna jangan asal berbicara ndasmu  ****** ...\n",
       "13166                   pengguna kasur mana enak ****** \n",
       "13167  pengguna hati hati ****     tidak dan lagi bos...\n",
       "13168  pengguna pengguna pengguna pengguna bom yang r...\n",
       "13169  pengguna mana situ memberi    itu cuma foto ya...\n",
       "\n",
       "[13170 rows x 1 columns]"
      ]
     },
     "execution_count": 17,
     "metadata": {},
     "output_type": "execute_result"
    }
   ],
   "source": [
    "dataq"
   ]
  },
  {
   "cell_type": "code",
   "execution_count": null,
   "metadata": {},
   "outputs": [],
   "source": []
  }
 ],
 "metadata": {
  "kernelspec": {
   "display_name": "Python 3",
   "language": "python",
   "name": "python3"
  },
  "language_info": {
   "codemirror_mode": {
    "name": "ipython",
    "version": 3
   },
   "file_extension": ".py",
   "mimetype": "text/x-python",
   "name": "python",
   "nbconvert_exporter": "python",
   "pygments_lexer": "ipython3",
   "version": "3.11.4"
  }
 },
 "nbformat": 4,
 "nbformat_minor": 2
}
