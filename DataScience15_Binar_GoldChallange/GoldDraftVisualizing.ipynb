{
 "cells": [
  {
   "cell_type": "code",
   "execution_count": 3,
   "metadata": {},
   "outputs": [],
   "source": [
    "from flask import Flask, jsonify\n",
    "import matplotlib as mpl\n",
    "import matplotlib.pyplot as plt\n",
    "import pandas as pd\n",
    "import re\n",
    "import demoji\n",
    "from matplotlib import pyplot as plt\n",
    "import seaborn as sns\n",
    "import numpy as np\n",
    "import sqlite3\n",
    "from PIL import features"
   ]
  },
  {
   "cell_type": "code",
   "execution_count": 4,
   "metadata": {},
   "outputs": [],
   "source": [
    "df_kbbi = pd.read_csv(\"new_kamusalay.csv\", encoding='latin-1', names=['TIDAKBAKU', 'BAKU'])\n",
    "\n",
    "ABS = pd.read_csv(\"abusive.csv\")\n",
    "\n",
    "data = pd.read_csv(\"data.csv\", encoding='latin-1')\n",
    "\n",
    "# data2 = data[[0]]\n"
   ]
  },
  {
   "cell_type": "code",
   "execution_count": 5,
   "metadata": {},
   "outputs": [
    {
     "data": {
      "text/plain": [
       "0        - disaat semua cowok berusaha melacak perhatia...\n",
       "1        RT USER: USER siapa yang telat ngasih tau elu?...\n",
       "2        41. Kadang aku berfikir, kenapa aku tetap perc...\n",
       "3        USER USER AKU ITU AKU\\n\\nKU TAU MATAMU SIPIT T...\n",
       "4        USER USER Kaum cebong kapir udah keliatan dong...\n",
       "                               ...                        \n",
       "13164    USER jangan asal ngomong ndasmu. congor lu yg ...\n",
       "13165                         USER Kasur mana enak kunyuk'\n",
       "13166    USER Hati hati bisu :( .g\\n\\nlagi bosan huft \\...\n",
       "13167    USER USER USER USER Bom yang real mudah terdet...\n",
       "13168    USER Mana situ ngasih(\": itu cuma foto ya kuti...\n",
       "Name: Tweet, Length: 13169, dtype: object"
      ]
     },
     "execution_count": 5,
     "metadata": {},
     "output_type": "execute_result"
    }
   ],
   "source": [
    "data['Tweet']"
   ]
  },
  {
   "cell_type": "code",
   "execution_count": 5,
   "metadata": {},
   "outputs": [
    {
     "name": "stdout",
     "output_type": "stream",
     "text": [
      "<class 'pandas.core.frame.DataFrame'>\n",
      "RangeIndex: 13169 entries, 0 to 13168\n",
      "Data columns (total 13 columns):\n",
      " #   Column         Non-Null Count  Dtype \n",
      "---  ------         --------------  ----- \n",
      " 0   Tweet          13169 non-null  object\n",
      " 1   HS             13169 non-null  int64 \n",
      " 2   Abusive        13169 non-null  int64 \n",
      " 3   HS_Individual  13169 non-null  int64 \n",
      " 4   HS_Group       13169 non-null  int64 \n",
      " 5   HS_Religion    13169 non-null  int64 \n",
      " 6   HS_Race        13169 non-null  int64 \n",
      " 7   HS_Physical    13169 non-null  int64 \n",
      " 8   HS_Gender      13169 non-null  int64 \n",
      " 9   HS_Other       13169 non-null  int64 \n",
      " 10  HS_Weak        13169 non-null  int64 \n",
      " 11  HS_Moderate    13169 non-null  int64 \n",
      " 12  HS_Strong      13169 non-null  int64 \n",
      "dtypes: int64(12), object(1)\n",
      "memory usage: 1.3+ MB\n"
     ]
    }
   ],
   "source": [
    "data.info()"
   ]
  },
  {
   "cell_type": "code",
   "execution_count": 6,
   "metadata": {},
   "outputs": [
    {
     "data": {
      "text/plain": [
       "125"
      ]
     },
     "execution_count": 6,
     "metadata": {},
     "output_type": "execute_result"
    }
   ],
   "source": [
    "data.duplicated().sum()\n"
   ]
  },
  {
   "cell_type": "code",
   "execution_count": 7,
   "metadata": {},
   "outputs": [],
   "source": [
    "data.drop_duplicates(inplace=True)"
   ]
  },
  {
   "cell_type": "code",
   "execution_count": 8,
   "metadata": {},
   "outputs": [
    {
     "data": {
      "text/plain": [
       "0"
      ]
     },
     "execution_count": 8,
     "metadata": {},
     "output_type": "execute_result"
    }
   ],
   "source": [
    "data.duplicated().sum()\n"
   ]
  },
  {
   "cell_type": "code",
   "execution_count": 9,
   "metadata": {},
   "outputs": [
    {
     "name": "stdout",
     "output_type": "stream",
     "text": [
      "<class 'pandas.core.frame.DataFrame'>\n",
      "Index: 13044 entries, 0 to 13168\n",
      "Data columns (total 13 columns):\n",
      " #   Column         Non-Null Count  Dtype \n",
      "---  ------         --------------  ----- \n",
      " 0   Tweet          13044 non-null  object\n",
      " 1   HS             13044 non-null  int64 \n",
      " 2   Abusive        13044 non-null  int64 \n",
      " 3   HS_Individual  13044 non-null  int64 \n",
      " 4   HS_Group       13044 non-null  int64 \n",
      " 5   HS_Religion    13044 non-null  int64 \n",
      " 6   HS_Race        13044 non-null  int64 \n",
      " 7   HS_Physical    13044 non-null  int64 \n",
      " 8   HS_Gender      13044 non-null  int64 \n",
      " 9   HS_Other       13044 non-null  int64 \n",
      " 10  HS_Weak        13044 non-null  int64 \n",
      " 11  HS_Moderate    13044 non-null  int64 \n",
      " 12  HS_Strong      13044 non-null  int64 \n",
      "dtypes: int64(12), object(1)\n",
      "memory usage: 1.4+ MB\n"
     ]
    }
   ],
   "source": [
    "data.info()"
   ]
  },
  {
   "cell_type": "code",
   "execution_count": 7,
   "metadata": {},
   "outputs": [
    {
     "name": "stdout",
     "output_type": "stream",
     "text": [
      "3575\n",
      "1986\n",
      "793\n",
      "566\n",
      "323\n",
      "306\n",
      "3740\n",
      "3383\n",
      "1705\n",
      "473\n"
     ]
    }
   ],
   "source": [
    "Individu = data['HS_Individual'].sum()\n",
    "print(Individu)\n",
    "Group = data['HS_Group'].sum()\n",
    "print(Group)\n",
    "Religion = data['HS_Religion'].sum()\n",
    "print(Religion)\n",
    "Race = data['HS_Race'].sum()\n",
    "print(Race)\n",
    "Physical = data['HS_Physical'].sum()\n",
    "print(Physical)    \n",
    "Gender = data['HS_Gender'].sum()\n",
    "print(Gender)\n",
    "Others = data['HS_Other'].sum()\n",
    "print(Others)\n",
    "Weak = data['HS_Weak'].sum()\n",
    "print(Weak)\n",
    "Moderate = data['HS_Moderate'].sum()\n",
    "print(Moderate)\n",
    "Strong = data['HS_Strong'].sum()\n",
    "print(Strong)"
   ]
  },
  {
   "cell_type": "code",
   "execution_count": 8,
   "metadata": {},
   "outputs": [
    {
     "data": {
      "text/plain": [
       "473"
      ]
     },
     "execution_count": 8,
     "metadata": {},
     "output_type": "execute_result"
    }
   ],
   "source": [
    "Individu \n",
    "Group \n",
    "Religion\n",
    "Race \n",
    "Physical\n",
    "Gender\n",
    "Others \n",
    "Weak \n",
    "Moderate \n",
    "Strong "
   ]
  },
  {
   "cell_type": "code",
   "execution_count": 12,
   "metadata": {},
   "outputs": [
    {
     "data": {
      "text/plain": [
       "5005"
      ]
     },
     "execution_count": 12,
     "metadata": {},
     "output_type": "execute_result"
    }
   ],
   "source": [
    "JumlahABS = data['Abusive'].sum()   \n",
    "JumlahABS"
   ]
  },
  {
   "cell_type": "code",
   "execution_count": 13,
   "metadata": {},
   "outputs": [
    {
     "data": {
      "text/plain": [
       "5518"
      ]
     },
     "execution_count": 13,
     "metadata": {},
     "output_type": "execute_result"
    }
   ],
   "source": [
    "jumlahHS = data['HS'].sum()\n",
    "jumlahHS"
   ]
  },
  {
   "cell_type": "code",
   "execution_count": 9,
   "metadata": {},
   "outputs": [],
   "source": [
    "division = ['Individu', 'Group', 'Religion', 'Race', 'Physical', 'Gender', 'Otthers', 'Weak', 'Moderate', 'Strong']\n",
    "division_average_marks = [Individu, Group, Religion, Race, Physical, Gender, Others, Weak, Moderate, Strong]"
   ]
  },
  {
   "cell_type": "code",
   "execution_count": 13,
   "metadata": {},
   "outputs": [],
   "source": [
    "visu = sorted(division_average_marks)"
   ]
  },
  {
   "cell_type": "code",
   "execution_count": 14,
   "metadata": {},
   "outputs": [
    {
     "data": {
      "text/plain": [
       "[306, 323, 473, 566, 793, 1705, 1986, 3383, 3575, 3740]"
      ]
     },
     "execution_count": 14,
     "metadata": {},
     "output_type": "execute_result"
    }
   ],
   "source": [
    "visu"
   ]
  },
  {
   "cell_type": "code",
   "execution_count": 19,
   "metadata": {},
   "outputs": [],
   "source": [
    "x = np.mean(visu)\n",
    "y = np.median(visu)"
   ]
  },
  {
   "cell_type": "code",
   "execution_count": 17,
   "metadata": {},
   "outputs": [
    {
     "data": {
      "text/plain": [
       "1685.0"
      ]
     },
     "execution_count": 17,
     "metadata": {},
     "output_type": "execute_result"
    }
   ],
   "source": [
    "x"
   ]
  },
  {
   "cell_type": "code",
   "execution_count": 20,
   "metadata": {},
   "outputs": [
    {
     "data": {
      "text/plain": [
       "1249.0"
      ]
     },
     "execution_count": 20,
     "metadata": {},
     "output_type": "execute_result"
    }
   ],
   "source": [
    "y"
   ]
  },
  {
   "cell_type": "code",
   "execution_count": 15,
   "metadata": {},
   "outputs": [
    {
     "data": {
      "image/png": "[encoded data removed]",
      "text/plain": [
       "<Figure size 640x480 with 1 Axes>"
      ]
     },
     "metadata": {},
     "output_type": "display_data"
    }
   ],
   "source": [
    "plt.bar(division, division_average_marks, color='Yellow')\n",
    "plt.title('Bar Graph')\n",
    "plt.xlabel('Divisions')\n",
    "plt.ylabel('Marks')\n",
    "plt.xticks(rotation=30)\n",
    "plt.show()"
   ]
  },
  {
   "cell_type": "code",
   "execution_count": 16,
   "metadata": {},
   "outputs": [],
   "source": [
    "firms = ['Abusive', 'Heat Speach']\n",
    "market_share =[JumlahABS, jumlahHS]\n",
    "Explode = [0.1,0.2]"
   ]
  },
  {
   "cell_type": "code",
   "execution_count": 17,
   "metadata": {},
   "outputs": [
    {
     "data": {
      "image/png": "[encoded data removed]",
      "text/plain": [
       "<Figure size 640x480 with 1 Axes>"
      ]
     },
     "metadata": {},
     "output_type": "display_data"
    }
   ],
   "source": [
    "plt.pie(market_share, explode=Explode, labels=firms, shadow=True, startangle=45)\n",
    "plt.axis('equal')\n",
    "plt.legend(title='Perbanding Abusive vs Heat Speach')\n",
    "plt.show()"
   ]
  },
  {
   "cell_type": "code",
   "execution_count": 18,
   "metadata": {},
   "outputs": [
    {
     "name": "stdout",
     "output_type": "stream",
     "text": [
      "<class 'pandas.core.frame.DataFrame'>\n",
      "RangeIndex: 13023 entries, 0 to 13022\n",
      "Data columns (total 14 columns):\n",
      " #   Column         Non-Null Count  Dtype \n",
      "---  ------         --------------  ----- \n",
      " 0   index          13023 non-null  int64 \n",
      " 1   Tweet          13023 non-null  object\n",
      " 2   HS             13023 non-null  int64 \n",
      " 3   Abusive        13023 non-null  int64 \n",
      " 4   HS_Individual  13023 non-null  int64 \n",
      " 5   HS_Group       13023 non-null  int64 \n",
      " 6   HS_Religion    13023 non-null  int64 \n",
      " 7   HS_Race        13023 non-null  int64 \n",
      " 8   HS_Physical    13023 non-null  int64 \n",
      " 9   HS_Gender      13023 non-null  int64 \n",
      " 10  HS_Other       13023 non-null  int64 \n",
      " 11  HS_Weak        13023 non-null  int64 \n",
      " 12  HS_Moderate    13023 non-null  int64 \n",
      " 13  HS_Strong      13023 non-null  int64 \n",
      "dtypes: int64(13), object(1)\n",
      "memory usage: 1.4+ MB\n"
     ]
    }
   ],
   "source": [
    "data = data.drop_duplicates(subset='Tweet', keep='first').reset_index()\n",
    "data.info()"
   ]
  },
  {
   "cell_type": "code",
   "execution_count": 19,
   "metadata": {},
   "outputs": [],
   "source": [
    "def kategoriumum(x):\n",
    "    if x['HS'] == 1 and x['Abusive'] == 1:\n",
    "        return 'Mengandung kata kasar'\n",
    "    elif x['HS'] == 1 and x['Abusive'] == 0:\n",
    "        return 'Mengandung kata kasar'\n",
    "    elif x['HS'] == 0 and x['Abusive'] == 1:\n",
    "        return 'Mengandung kata kasar'\n",
    "    else:\n",
    "        return 'Tidak mengandung kata kasar'\n",
    "\n",
    "data['Probality'] = data.apply(kategoriumum, axis=1)"
   ]
  },
  {
   "cell_type": "code",
   "execution_count": 20,
   "metadata": {},
   "outputs": [
    {
     "data": {
      "text/plain": [
       "Probality\n",
       "Mengandung kata kasar          7243\n",
       "Tidak mengandung kata kasar    5780\n",
       "Name: count, dtype: int64"
      ]
     },
     "execution_count": 20,
     "metadata": {},
     "output_type": "execute_result"
    }
   ],
   "source": [
    "data['Probality'].value_counts()"
   ]
  },
  {
   "cell_type": "code",
   "execution_count": 21,
   "metadata": {},
   "outputs": [
    {
     "data": {
      "text/plain": [
       "<Axes: xlabel='Probality', ylabel='count'>"
      ]
     },
     "execution_count": 21,
     "metadata": {},
     "output_type": "execute_result"
    },
    {
     "data": {
      "image/png": "[encoded data removed]",
      "text/plain": [
       "<Figure size 640x480 with 1 Axes>"
      ]
     },
     "metadata": {},
     "output_type": "display_data"
    }
   ],
   "source": [
    "sns.countplot(x=data['Probality'])"
   ]
  },
  {
   "cell_type": "code",
   "execution_count": null,
   "metadata": {},
   "outputs": [],
   "source": []
  }
 ],
 "metadata": {
  "kernelspec": {
   "display_name": "Python 3",
   "language": "python",
   "name": "python3"
  },
  "language_info": {
   "codemirror_mode": {
    "name": "ipython",
    "version": 3
   },
   "file_extension": ".py",
   "mimetype": "text/x-python",
   "name": "python",
   "nbconvert_exporter": "python",
   "pygments_lexer": "ipython3",
   "version": "3.11.4"
  }
 },
 "nbformat": 4,
 "nbformat_minor": 2
}
